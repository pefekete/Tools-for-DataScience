{
 "cells": [
  {
   "cell_type": "markdown",
   "id": "3f3cb03b-ad27-496a-bd9f-da381c8ba18c",
   "metadata": {},
   "source": [
    "# Data Science Tools and Ecosystem"
   ]
  },
  {
   "cell_type": "markdown",
   "id": "9a30c72e-8d45-4213-976f-f0258eadada9",
   "metadata": {},
   "source": [
    "In this notebook, Data Science Tools and Ecosystem are summarized. Notebook created by Peter Nuñez as part of the Final Assignment from IBM Tools for Data Science. "
   ]
  },
  {
   "cell_type": "markdown",
   "id": "acde9a3a-368c-4261-8fc0-292629db9149",
   "metadata": {},
   "source": [
    "**Objectives:**\n",
    "- List popular languages for DataScience\n",
    "- Become familiar with the Data Scientist’s tool kit such: Libraries & Packages, Data Sets, Machine Learning Models, Kernels, as well as the various Open source, commercial, Big Data and Cloud-based tools.\n",
    "- Work with Jupyter Notebooks, JupyterLab, RStudio IDE, Git, GitHub, and Watson Studio. \n",
    "- Understand what each tool is used for, what programming languages they can execute, their features and limitations.  \n",
    "- Provide hands-on experience to develop skills for working with these Data Science Tools.\n",
    "- Test tools hosted in the cloud on Skills Network Labs and run simple codes in Python and R.\n",
    "- Introduction to GitHub and learn how to share the work with other peers.\n"
   ]
  },
  {
   "cell_type": "markdown",
   "id": "113ff7ba-e258-4438-9804-886deafa61a7",
   "metadata": {},
   "source": [
    "Some of the popular languages that Data Scientists use are:\n",
    "1. Python\n",
    "2. R Language\n",
    "3. SQL"
   ]
  },
  {
   "cell_type": "markdown",
   "id": "d8265b3c-738b-429f-8962-f8526ea330a0",
   "metadata": {},
   "source": [
    "Some of the commonly used libraries used by Data Scientists include:\n",
    "1. Pandas (Data structures and Tools) for Scientific Computing\n",
    "2. NumPy (Arrays and Matrices) for Scientific Computing\n",
    "3. Matplotlib (plots & graphs) for Data Visualization\n",
    "4. Seaborn (plots) for Data Visualization\n",
    "5. Skikit-learn (Machine Learning) for Machine learning and Deep Learning\n",
    "6. Keras (Deep Learning Neural Networks) for Machine Learning and Deep Learning"
   ]
  },
  {
   "cell_type": "markdown",
   "id": "61efafa9-b9d0-4284-8686-898f66a7f666",
   "metadata": {},
   "source": [
    "| Data Science Tools |\n",
    "| --------- |\n",
    "| Watson Studio by IBM |\n",
    "| Watson Open Scale by IBM | \n",
    "| Watson Machine Learning by IBM |"
   ]
  },
  {
   "cell_type": "markdown",
   "id": "b7c586b8-31d8-4087-bc12-1fd90d9986b8",
   "metadata": {
    "tags": []
   },
   "source": [
    "### Below are a few examples of evaluating arithmetic expressions in Python"
   ]
  },
  {
   "cell_type": "code",
   "execution_count": 12,
   "id": "e5a47edf-ae95-458b-bdea-a988b8be1979",
   "metadata": {
    "tags": []
   },
   "outputs": [
    {
     "data": {
      "text/plain": [
       "17"
      ]
     },
     "execution_count": 12,
     "metadata": {},
     "output_type": "execute_result"
    }
   ],
   "source": [
    "# This a simple arithmetic expression to mutiply then add integers\n",
    "(3*4)+5"
   ]
  },
  {
   "cell_type": "code",
   "execution_count": 13,
   "id": "fe7de931-ddc8-4fcf-b995-24b7ca05382c",
   "metadata": {
    "tags": []
   },
   "outputs": [
    {
     "data": {
      "text/plain": [
       "3.3333333333333335"
      ]
     },
     "execution_count": 13,
     "metadata": {},
     "output_type": "execute_result"
    }
   ],
   "source": [
    "# This will convert 200 minutes to hours by diving by 60\n",
    "200/60"
   ]
  },
  {
   "cell_type": "markdown",
   "id": "dc07b1db-5d04-4e1c-81af-52550ee1f326",
   "metadata": {
    "tags": []
   },
   "source": [
    "## Author\n",
    "Peter Nuñez"
   ]
  },
  {
   "cell_type": "code",
   "execution_count": null,
   "id": "691d3953-94f1-4d61-a1f1-88fef302ce63",
   "metadata": {},
   "outputs": [],
   "source": []
  }
 ],
 "metadata": {
  "kernelspec": {
   "display_name": "Python",
   "language": "python",
   "name": "conda-env-python-py"
  },
  "language_info": {
   "codemirror_mode": {
    "name": "ipython",
    "version": 3
   },
   "file_extension": ".py",
   "mimetype": "text/x-python",
   "name": "python",
   "nbconvert_exporter": "python",
   "pygments_lexer": "ipython3",
   "version": "3.7.12"
  }
 },
 "nbformat": 4,
 "nbformat_minor": 5
}
